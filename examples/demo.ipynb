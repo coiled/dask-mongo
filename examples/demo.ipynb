{
 "cells": [
  {
   "cell_type": "code",
   "execution_count": 1,
   "id": "06aff4dd",
   "metadata": {},
   "outputs": [],
   "source": [
    "import pymongo\n",
    "from pymongo import MongoClient"
   ]
  },
  {
   "cell_type": "markdown",
   "id": "400a06cd",
   "metadata": {},
   "source": [
    "## Let's generate some data"
   ]
  },
  {
   "cell_type": "code",
   "execution_count": 2,
   "id": "b951dea1",
   "metadata": {},
   "outputs": [],
   "source": [
    "import random"
   ]
  },
  {
   "cell_type": "code",
   "execution_count": 3,
   "id": "c353cdfd",
   "metadata": {},
   "outputs": [],
   "source": [
    "def gen_data(size=10):\n",
    "    records = [\n",
    "        {\n",
    "            \"name\": random.choice([\"fred\", \"wilma\", \"barney\", \"betty\"]),\n",
    "            \"number\": random.randint(0, 100),\n",
    "            \"idx\": i,\n",
    "        }\n",
    "        for i in range(size)\n",
    "    ]\n",
    "    return records"
   ]
  },
  {
   "cell_type": "code",
   "execution_count": 4,
   "id": "4ded7716",
   "metadata": {},
   "outputs": [],
   "source": [
    "records = gen_data(size=100000)"
   ]
  },
  {
   "cell_type": "markdown",
   "id": "87728ca7",
   "metadata": {},
   "source": [
    "Let's take a sneak peak on how this data looks like. You might notice that is a list of dictionaries. This looks a list of `documents` that you might insert into a `collection` in a `Mongo` database. "
   ]
  },
  {
   "cell_type": "code",
   "execution_count": 5,
   "id": "1f809fe9",
   "metadata": {},
   "outputs": [
    {
     "data": {
      "text/plain": [
       "[{'name': 'fred', 'number': 27, 'idx': 0},\n",
       " {'name': 'betty', 'number': 35, 'idx': 1},\n",
       " {'name': 'betty', 'number': 58, 'idx': 2},\n",
       " {'name': 'barney', 'number': 2, 'idx': 3},\n",
       " {'name': 'betty', 'number': 50, 'idx': 4},\n",
       " {'name': 'barney', 'number': 74, 'idx': 5},\n",
       " {'name': 'barney', 'number': 96, 'idx': 6},\n",
       " {'name': 'fred', 'number': 30, 'idx': 7},\n",
       " {'name': 'fred', 'number': 78, 'idx': 8},\n",
       " {'name': 'fred', 'number': 77, 'idx': 9}]"
      ]
     },
     "execution_count": 5,
     "metadata": {},
     "output_type": "execute_result"
    }
   ],
   "source": [
    "records[:10]"
   ]
  },
  {
   "cell_type": "markdown",
   "id": "07d0d17f",
   "metadata": {},
   "source": [
    "### Write and Read using PyMongo"
   ]
  },
  {
   "cell_type": "markdown",
   "id": "6e9d19c6",
   "metadata": {},
   "source": [
    "Let's see how to write and read these records using a `PyMongo` workflow. You can start a local serve which by default will be on `\"host\":\"localhost\"` and `\"port\":27017` or you can  try to [`MongoDB Atlas`](https://docs.atlas.mongodb.com/tutorial/deploy-free-tier-cluster/) and deploy a free cluster there. For the latter, you'll need use a URI string with your MongoDB deployment's connection string.\n",
    "\n",
    "For example if you create a cluster called `testcluster` and the URI looks something like this: \n",
    "```\"mongodb+srv://<username>:<password>@testcluster.uj8nk.mongodb.net/myFirstDatabase?retryWrites=true&w=majority\"```\n",
    "\n",
    "Notes: \n",
    "- For the last option you will need to install `dnspython` -> `pip install dnspython` to be able to connect to your cluster.\n",
    "\n",
    "- If you are using a free instance of Mongo Atlas, keep in mind that there are some limitation. For example the `allowDiskUse` option for the aggregation operation is not available. There is a sort in memory limit that is of 32MB.  This is important to keep in mind since `read_mongo` relies on the `aggregation` operation. It seems that this limits are preventing us to try bigger use cases on the M0 free tier. "
   ]
  },
  {
   "cell_type": "markdown",
   "id": "105f021e",
   "metadata": {},
   "source": [
    "Let's connect to our cluster:"
   ]
  },
  {
   "cell_type": "code",
   "execution_count": 6,
   "id": "3833468f",
   "metadata": {},
   "outputs": [],
   "source": [
    "#replace this for your URI connection\n",
    "host_uri = \"mongodb+srv://<username>:<password>@<cluster-address>/myFirstDatabase?retryWrites=true&w=majority\"\n",
    "mongo_client = MongoClient(host_uri)"
   ]
  },
  {
   "cell_type": "markdown",
   "id": "5a02339f",
   "metadata": {},
   "source": [
    "We create a cdatabase and a collection, but notice that tehy won't exist until we put some documents on it."
   ]
  },
  {
   "cell_type": "code",
   "execution_count": 7,
   "id": "c9d2d449",
   "metadata": {},
   "outputs": [],
   "source": [
    "database = mongo_client[\"db_test\"]\n",
    "collection = database[\"coll_test\"]"
   ]
  },
  {
   "cell_type": "code",
   "execution_count": 8,
   "id": "fe3e8bdf",
   "metadata": {},
   "outputs": [
    {
     "data": {
      "text/plain": [
       "['admin', 'local']"
      ]
     },
     "execution_count": 8,
     "metadata": {},
     "output_type": "execute_result"
    }
   ],
   "source": [
    "mongo_client.list_database_names()"
   ]
  },
  {
   "cell_type": "markdown",
   "id": "28ba9beb",
   "metadata": {},
   "source": [
    "**Write to mongo with `pymongo`**"
   ]
  },
  {
   "cell_type": "markdown",
   "id": "41ab8143",
   "metadata": {},
   "source": [
    "We'll use the `insert_many` comand to write to our database. "
   ]
  },
  {
   "cell_type": "code",
   "execution_count": 9,
   "id": "54fcf38b",
   "metadata": {},
   "outputs": [
    {
     "name": "stdout",
     "output_type": "stream",
     "text": [
      "CPU times: user 430 ms, sys: 23.2 ms, total: 453 ms\n",
      "Wall time: 12.2 s\n"
     ]
    },
    {
     "data": {
      "text/plain": [
       "<pymongo.results.InsertManyResult at 0x10c5c6180>"
      ]
     },
     "execution_count": 9,
     "metadata": {},
     "output_type": "execute_result"
    }
   ],
   "source": [
    "%%time\n",
    "collection.insert_many(records)"
   ]
  },
  {
   "cell_type": "markdown",
   "id": "43adea8b",
   "metadata": {},
   "source": [
    "It took less than two seconds to write ten thousand documents. Now you can see our `db_test` in the list of databases. "
   ]
  },
  {
   "cell_type": "code",
   "execution_count": 10,
   "id": "c1a67a63",
   "metadata": {},
   "outputs": [
    {
     "data": {
      "text/plain": [
       "['db_test', 'admin', 'local']"
      ]
     },
     "execution_count": 10,
     "metadata": {},
     "output_type": "execute_result"
    }
   ],
   "source": [
    "mongo_client.list_database_names()"
   ]
  },
  {
   "cell_type": "markdown",
   "id": "1c8c375c",
   "metadata": {},
   "source": [
    "**Read from mongo with `pymongo`**"
   ]
  },
  {
   "cell_type": "code",
   "execution_count": 11,
   "id": "d99447e8",
   "metadata": {},
   "outputs": [
    {
     "name": "stdout",
     "output_type": "stream",
     "text": [
      "CPU times: user 245 ms, sys: 28.9 ms, total: 274 ms\n",
      "Wall time: 1.19 s\n"
     ]
    }
   ],
   "source": [
    "%%time\n",
    "my_records = list(collection.find())  "
   ]
  },
  {
   "cell_type": "code",
   "execution_count": 12,
   "id": "7899895f",
   "metadata": {},
   "outputs": [
    {
     "data": {
      "text/plain": [
       "100000"
      ]
     },
     "execution_count": 12,
     "metadata": {},
     "output_type": "execute_result"
    }
   ],
   "source": [
    "len(my_records)"
   ]
  },
  {
   "cell_type": "markdown",
   "id": "d9c8f923",
   "metadata": {},
   "source": [
    "We can drop things from our database by doing:"
   ]
  },
  {
   "cell_type": "code",
   "execution_count": 13,
   "id": "4c874c85",
   "metadata": {},
   "outputs": [
    {
     "data": {
      "text/plain": [
       "{'nIndexesWas': 1,\n",
       " 'ns': 'db_test.coll_test',\n",
       " 'ok': 1.0,\n",
       " '$clusterTime': {'clusterTime': Timestamp(1626736995, 3),\n",
       "  'signature': {'hash': b'qT\\xd7!\\xfe\\xf0Ho:\\xd9?@\\xd2\\x9b\\xfd\\x1b\\xcc\\xc1\\x8f@',\n",
       "   'keyId': 6932492981463154689}},\n",
       " 'operationTime': Timestamp(1626736995, 3)}"
      ]
     },
     "execution_count": 13,
     "metadata": {},
     "output_type": "execute_result"
    }
   ],
   "source": [
    "database.drop_collection(\"coll_test\")"
   ]
  },
  {
   "cell_type": "markdown",
   "id": "b4eeb7fe",
   "metadata": {},
   "source": [
    "## Write and read with `dask-mongo`"
   ]
  },
  {
   "cell_type": "code",
   "execution_count": 14,
   "id": "26418424",
   "metadata": {},
   "outputs": [],
   "source": [
    "from dask_mongo import to_mongo, read_mongo\n",
    "import dask.bag as db"
   ]
  },
  {
   "cell_type": "code",
   "execution_count": 15,
   "id": "bc430cd0",
   "metadata": {},
   "outputs": [],
   "source": [
    "from distributed import Client"
   ]
  },
  {
   "cell_type": "code",
   "execution_count": 16,
   "id": "cd30dacf",
   "metadata": {},
   "outputs": [
    {
     "data": {
      "text/html": [
       "\n",
       "            <div>\n",
       "                <div style=\"\n",
       "                    width: 24px;\n",
       "                    height: 24px;\n",
       "                    background-color: #e1e1e1;\n",
       "                    border: 3px solid #9D9D9D;\n",
       "                    border-radius: 5px;\n",
       "                    position: absolute;\"> </div>\n",
       "                <div style=\"margin-left: 48px;\">\n",
       "                    <h3 style=\"margin-bottom: 0px;\">Client</h3>\n",
       "                    <p style=\"color: #9D9D9D; margin-bottom: 0px;\">Client-4c40a9e2-e8e8-11eb-a8c5-1e00ea0a0275</p>\n",
       "                    <table style=\"width: 100%; text-align: left;\">\n",
       "                    \n",
       "                <tr>\n",
       "                    <td style=\"text-align: left;\"><strong>Connection method:</strong> Cluster object</td>\n",
       "                    <td style=\"text-align: left;\"><strong>Cluster type:</strong> LocalCluster</td>\n",
       "                </tr>\n",
       "                \n",
       "                <tr>\n",
       "                    <td style=\"text-align: left;\">\n",
       "                        <strong>Dashboard: </strong>\n",
       "                        <a href=\"http://127.0.0.1:8787/status\">http://127.0.0.1:8787/status</a>\n",
       "                    </td>\n",
       "                    <td style=\"text-align: left;\"></td>\n",
       "                </tr>\n",
       "                \n",
       "                    </table>\n",
       "                    \n",
       "                <details>\n",
       "                <summary style=\"margin-bottom: 20px;\"><h3 style=\"display: inline;\">Cluster Info</h3></summary>\n",
       "                \n",
       "            <div class=\"jp-RenderedHTMLCommon jp-RenderedHTML jp-mod-trusted jp-OutputArea-output\">\n",
       "                <div style=\"\n",
       "                    width: 24px;\n",
       "                    height: 24px;\n",
       "                    background-color: #e1e1e1;\n",
       "                    border: 3px solid #9D9D9D;\n",
       "                    border-radius: 5px;\n",
       "                    position: absolute;\"> </div>\n",
       "                <div style=\"margin-left: 48px;\">\n",
       "                    <h3 style=\"margin-bottom: 0px; margin-top: 0px;\">LocalCluster</h3>\n",
       "                    <p style=\"color: #9D9D9D; margin-bottom: 0px;\">96d56d9e</p>\n",
       "                    <table style=\"width: 100%; text-align: left;\">\n",
       "                    \n",
       "            <tr>\n",
       "                <td style=\"text-align: left;\"><strong>Status:</strong> running</td>\n",
       "                <td style=\"text-align: left;\"><strong>Using processes:</strong> True</td>\n",
       "            </tr>\n",
       "        \n",
       "            <tr>\n",
       "                <td style=\"text-align: left;\">\n",
       "                    <strong>Dashboard:</strong> <a href=\"http://127.0.0.1:8787/status\">http://127.0.0.1:8787/status</a>\n",
       "                </td>\n",
       "                <td style=\"text-align: left;\"><strong>Workers:</strong> 4</td>\n",
       "            </tr>\n",
       "            <tr>\n",
       "                <td style=\"text-align: left;\">\n",
       "                    <strong>Total threads:</strong>\n",
       "                    8\n",
       "                </td>\n",
       "                <td style=\"text-align: left;\">\n",
       "                    <strong>Total memory:</strong>\n",
       "                    16.00 GiB\n",
       "                </td>\n",
       "            </tr>\n",
       "        \n",
       "                    </table>\n",
       "                    <details>\n",
       "                    <summary style=\"margin-bottom: 20px;\"><h3 style=\"display: inline;\">Scheduler Info</h3></summary>\n",
       "                    \n",
       "        <div style=\"\">\n",
       "            \n",
       "            <div>\n",
       "                <div style=\"\n",
       "                    width: 24px;\n",
       "                    height: 24px;\n",
       "                    background-color: #FFF7E5;\n",
       "                    border: 3px solid #FF6132;\n",
       "                    border-radius: 5px;\n",
       "                    position: absolute;\"> </div>\n",
       "                <div style=\"margin-left: 48px;\">\n",
       "                    <h3 style=\"margin-bottom: 0px;\">Scheduler</h3>\n",
       "                    <p style=\"color: #9D9D9D; margin-bottom: 0px;\">Scheduler-16a1833b-91b8-4943-b9ee-0049ef1e0a15</p>\n",
       "                    <table style=\"width: 100%; text-align: left;\">\n",
       "                        <tr>\n",
       "                            <td style=\"text-align: left;\"><strong>Comm:</strong> tcp://127.0.0.1:60893</td>\n",
       "                            <td style=\"text-align: left;\"><strong>Workers:</strong> 4</td>\n",
       "                        </tr>\n",
       "                        <tr>\n",
       "                            <td style=\"text-align: left;\">\n",
       "                                <strong>Dashboard:</strong> <a href=\"http://127.0.0.1:8787/status\">http://127.0.0.1:8787/status</a>\n",
       "                            </td>\n",
       "                            <td style=\"text-align: left;\">\n",
       "                                <strong>Total threads:</strong>\n",
       "                                8\n",
       "                            </td>\n",
       "                        </tr>\n",
       "                        <tr>\n",
       "                            <td style=\"text-align: left;\">\n",
       "                                <strong>Started:</strong>\n",
       "                                Just now\n",
       "                            </td>\n",
       "                            <td style=\"text-align: left;\">\n",
       "                                <strong>Total memory:</strong>\n",
       "                                16.00 GiB\n",
       "                            </td>\n",
       "                        </tr>\n",
       "                    </table>\n",
       "                </div>\n",
       "            </div>\n",
       "        \n",
       "            <details style=\"margin-left: 48px;\">\n",
       "            <summary style=\"margin-bottom: 20px;\"><h3 style=\"display: inline;\">Workers</h3></summary>\n",
       "            \n",
       "            <div style=\"margin-bottom: 20px;\">\n",
       "                <div style=\"width: 24px;\n",
       "                            height: 24px;\n",
       "                            background-color: #DBF5FF;\n",
       "                            border: 3px solid #4CC9FF;\n",
       "                            border-radius: 5px;\n",
       "                            position: absolute;\"> </div>\n",
       "                <div style=\"margin-left: 48px;\">\n",
       "                <details>\n",
       "                    <summary>\n",
       "                        <h4 style=\"margin-bottom: 0px; display: inline;\">Worker: 0</h4>\n",
       "                    </summary>\n",
       "                    <table style=\"width: 100%; text-align: left;\">\n",
       "                        <tr>\n",
       "                            <td style=\"text-align: left;\"><strong>Comm: </strong> tcp://127.0.0.1:60901</td>\n",
       "                            <td style=\"text-align: left;\"><strong>Total threads: </strong> 2</td>\n",
       "                        </tr>\n",
       "                        <tr>\n",
       "                            <td style=\"text-align: left;\">\n",
       "                                <strong>Dashboard: </strong>\n",
       "                                <a href=\"http://127.0.0.1:60903/status\">http://127.0.0.1:60903/status</a>\n",
       "                            </td>\n",
       "                            <td style=\"text-align: left;\">\n",
       "                                <strong>Memory: </strong>\n",
       "                                4.00 GiB\n",
       "                            </td>\n",
       "                        </tr>\n",
       "                        <tr>\n",
       "                            <td style=\"text-align: left;\"><strong>Nanny: </strong> tcp://127.0.0.1:60896</td>\n",
       "                            <td style=\"text-align: left;\"></td>\n",
       "                        </tr>\n",
       "                        <tr>\n",
       "                            <td colspan=\"2\" style=\"text-align: left;\">\n",
       "                                <strong>Local directory: </strong>\n",
       "                                /Users/ncclementi/Documents/git/my_forks/dask-mongo/examples/dask-worker-space/worker-l07mju9r\n",
       "                            </td>\n",
       "                        </tr>\n",
       "                        \n",
       "                        \n",
       "                    </table>\n",
       "                </details>\n",
       "                </div>\n",
       "            </div>\n",
       "            \n",
       "            <div style=\"margin-bottom: 20px;\">\n",
       "                <div style=\"width: 24px;\n",
       "                            height: 24px;\n",
       "                            background-color: #DBF5FF;\n",
       "                            border: 3px solid #4CC9FF;\n",
       "                            border-radius: 5px;\n",
       "                            position: absolute;\"> </div>\n",
       "                <div style=\"margin-left: 48px;\">\n",
       "                <details>\n",
       "                    <summary>\n",
       "                        <h4 style=\"margin-bottom: 0px; display: inline;\">Worker: 1</h4>\n",
       "                    </summary>\n",
       "                    <table style=\"width: 100%; text-align: left;\">\n",
       "                        <tr>\n",
       "                            <td style=\"text-align: left;\"><strong>Comm: </strong> tcp://127.0.0.1:60899</td>\n",
       "                            <td style=\"text-align: left;\"><strong>Total threads: </strong> 2</td>\n",
       "                        </tr>\n",
       "                        <tr>\n",
       "                            <td style=\"text-align: left;\">\n",
       "                                <strong>Dashboard: </strong>\n",
       "                                <a href=\"http://127.0.0.1:60900/status\">http://127.0.0.1:60900/status</a>\n",
       "                            </td>\n",
       "                            <td style=\"text-align: left;\">\n",
       "                                <strong>Memory: </strong>\n",
       "                                4.00 GiB\n",
       "                            </td>\n",
       "                        </tr>\n",
       "                        <tr>\n",
       "                            <td style=\"text-align: left;\"><strong>Nanny: </strong> tcp://127.0.0.1:60895</td>\n",
       "                            <td style=\"text-align: left;\"></td>\n",
       "                        </tr>\n",
       "                        <tr>\n",
       "                            <td colspan=\"2\" style=\"text-align: left;\">\n",
       "                                <strong>Local directory: </strong>\n",
       "                                /Users/ncclementi/Documents/git/my_forks/dask-mongo/examples/dask-worker-space/worker-jjkx4q15\n",
       "                            </td>\n",
       "                        </tr>\n",
       "                        \n",
       "                        \n",
       "                    </table>\n",
       "                </details>\n",
       "                </div>\n",
       "            </div>\n",
       "            \n",
       "            <div style=\"margin-bottom: 20px;\">\n",
       "                <div style=\"width: 24px;\n",
       "                            height: 24px;\n",
       "                            background-color: #DBF5FF;\n",
       "                            border: 3px solid #4CC9FF;\n",
       "                            border-radius: 5px;\n",
       "                            position: absolute;\"> </div>\n",
       "                <div style=\"margin-left: 48px;\">\n",
       "                <details>\n",
       "                    <summary>\n",
       "                        <h4 style=\"margin-bottom: 0px; display: inline;\">Worker: 2</h4>\n",
       "                    </summary>\n",
       "                    <table style=\"width: 100%; text-align: left;\">\n",
       "                        <tr>\n",
       "                            <td style=\"text-align: left;\"><strong>Comm: </strong> tcp://127.0.0.1:60905</td>\n",
       "                            <td style=\"text-align: left;\"><strong>Total threads: </strong> 2</td>\n",
       "                        </tr>\n",
       "                        <tr>\n",
       "                            <td style=\"text-align: left;\">\n",
       "                                <strong>Dashboard: </strong>\n",
       "                                <a href=\"http://127.0.0.1:60906/status\">http://127.0.0.1:60906/status</a>\n",
       "                            </td>\n",
       "                            <td style=\"text-align: left;\">\n",
       "                                <strong>Memory: </strong>\n",
       "                                4.00 GiB\n",
       "                            </td>\n",
       "                        </tr>\n",
       "                        <tr>\n",
       "                            <td style=\"text-align: left;\"><strong>Nanny: </strong> tcp://127.0.0.1:60897</td>\n",
       "                            <td style=\"text-align: left;\"></td>\n",
       "                        </tr>\n",
       "                        <tr>\n",
       "                            <td colspan=\"2\" style=\"text-align: left;\">\n",
       "                                <strong>Local directory: </strong>\n",
       "                                /Users/ncclementi/Documents/git/my_forks/dask-mongo/examples/dask-worker-space/worker-xk563v0a\n",
       "                            </td>\n",
       "                        </tr>\n",
       "                        \n",
       "                        \n",
       "                    </table>\n",
       "                </details>\n",
       "                </div>\n",
       "            </div>\n",
       "            \n",
       "            <div style=\"margin-bottom: 20px;\">\n",
       "                <div style=\"width: 24px;\n",
       "                            height: 24px;\n",
       "                            background-color: #DBF5FF;\n",
       "                            border: 3px solid #4CC9FF;\n",
       "                            border-radius: 5px;\n",
       "                            position: absolute;\"> </div>\n",
       "                <div style=\"margin-left: 48px;\">\n",
       "                <details>\n",
       "                    <summary>\n",
       "                        <h4 style=\"margin-bottom: 0px; display: inline;\">Worker: 3</h4>\n",
       "                    </summary>\n",
       "                    <table style=\"width: 100%; text-align: left;\">\n",
       "                        <tr>\n",
       "                            <td style=\"text-align: left;\"><strong>Comm: </strong> tcp://127.0.0.1:60908</td>\n",
       "                            <td style=\"text-align: left;\"><strong>Total threads: </strong> 2</td>\n",
       "                        </tr>\n",
       "                        <tr>\n",
       "                            <td style=\"text-align: left;\">\n",
       "                                <strong>Dashboard: </strong>\n",
       "                                <a href=\"http://127.0.0.1:60909/status\">http://127.0.0.1:60909/status</a>\n",
       "                            </td>\n",
       "                            <td style=\"text-align: left;\">\n",
       "                                <strong>Memory: </strong>\n",
       "                                4.00 GiB\n",
       "                            </td>\n",
       "                        </tr>\n",
       "                        <tr>\n",
       "                            <td style=\"text-align: left;\"><strong>Nanny: </strong> tcp://127.0.0.1:60898</td>\n",
       "                            <td style=\"text-align: left;\"></td>\n",
       "                        </tr>\n",
       "                        <tr>\n",
       "                            <td colspan=\"2\" style=\"text-align: left;\">\n",
       "                                <strong>Local directory: </strong>\n",
       "                                /Users/ncclementi/Documents/git/my_forks/dask-mongo/examples/dask-worker-space/worker-l_fvzsrf\n",
       "                            </td>\n",
       "                        </tr>\n",
       "                        \n",
       "                        \n",
       "                    </table>\n",
       "                </details>\n",
       "                </div>\n",
       "            </div>\n",
       "            \n",
       "            </details>\n",
       "        </div>\n",
       "        \n",
       "                    </details>\n",
       "                </div>\n",
       "            </div>\n",
       "        \n",
       "                </details>\n",
       "                \n",
       "                </div>\n",
       "            </div>\n",
       "        "
      ],
      "text/plain": [
       "<Client: 'tcp://127.0.0.1:60893' processes=4 threads=8, memory=16.00 GiB>"
      ]
     },
     "execution_count": 16,
     "metadata": {},
     "output_type": "execute_result"
    }
   ],
   "source": [
    "client = Client()\n",
    "client"
   ]
  },
  {
   "cell_type": "markdown",
   "id": "8b8645f1",
   "metadata": {},
   "source": [
    "To be able to write to mongo we need to convert our list of records into a [`dask.bag`](https://docs.dask.org/en/latest/bag.html) and specify how many partitions we want."
   ]
  },
  {
   "cell_type": "code",
   "execution_count": 17,
   "id": "a4a2cf27",
   "metadata": {},
   "outputs": [],
   "source": [
    "npartitions = 10\n",
    "records_bag = db.from_sequence(records, npartitions=npartitions)"
   ]
  },
  {
   "cell_type": "markdown",
   "id": "f742b5f1",
   "metadata": {},
   "source": [
    "**`to_mongo`** \n",
    "\n",
    "If the database and colections you pass do not exist they'll be created. "
   ]
  },
  {
   "cell_type": "code",
   "execution_count": 18,
   "id": "a40d1fc8",
   "metadata": {},
   "outputs": [
    {
     "name": "stdout",
     "output_type": "stream",
     "text": [
      "CPU times: user 2.44 s, sys: 196 ms, total: 2.64 s\n",
      "Wall time: 18.6 s\n"
     ]
    }
   ],
   "source": [
    "%%time\n",
    "to_mongo(records_bag,  \n",
    "         database='new_database', \n",
    "         collection='new_collection',\n",
    "         connection_kwargs={\"host\": host_uri})"
   ]
  },
  {
   "cell_type": "markdown",
   "id": "74b01b84",
   "metadata": {},
   "source": [
    "If you check your collections in your atlas cluster, you should now see a new database called `\"new_database\"`. Let's try to read some data using `dask-mongo`"
   ]
  },
  {
   "cell_type": "markdown",
   "id": "d289bd5f",
   "metadata": {},
   "source": [
    "**`read_mongo`**"
   ]
  },
  {
   "cell_type": "code",
   "execution_count": 19,
   "id": "2b916111",
   "metadata": {},
   "outputs": [],
   "source": [
    "read_bag = read_mongo(connection_kwargs={\"host\": host_uri}, \n",
    "                database='new_database', \n",
    "                collection='new_collection',\n",
    "                chunksize=500)"
   ]
  },
  {
   "cell_type": "code",
   "execution_count": 20,
   "id": "a9662e07",
   "metadata": {},
   "outputs": [
    {
     "data": {
      "text/plain": [
       "dask.bag<read_mongo, npartitions=200>"
      ]
     },
     "execution_count": 20,
     "metadata": {},
     "output_type": "execute_result"
    }
   ],
   "source": [
    "read_bag"
   ]
  },
  {
   "cell_type": "code",
   "execution_count": 21,
   "id": "84bc07eb",
   "metadata": {},
   "outputs": [
    {
     "name": "stdout",
     "output_type": "stream",
     "text": [
      "CPU times: user 1.54 s, sys: 171 ms, total: 1.71 s\n",
      "Wall time: 18.9 s\n"
     ]
    }
   ],
   "source": [
    "%%time\n",
    "records_list = read_bag.compute()"
   ]
  },
  {
   "cell_type": "markdown",
   "id": "bb7ec0f0",
   "metadata": {},
   "source": [
    "**Read with match**"
   ]
  },
  {
   "cell_type": "markdown",
   "id": "fdb556a6",
   "metadata": {},
   "source": [
    "You can also read only a protion of your data records by providing a `match`. For example we can only bring the records where `idx` is bigger than 100 and smaller than 10000. "
   ]
  },
  {
   "cell_type": "code",
   "execution_count": 22,
   "id": "5823322d",
   "metadata": {},
   "outputs": [],
   "source": [
    "read_bag_filtered = read_mongo(connection_kwargs={\"host\": host_uri}, \n",
    "                database='new_database', \n",
    "                collection='new_collection',\n",
    "                chunksize=500, \n",
    "                match={\"idx\": {\"$gt\": 100, \"$lt\":110}})"
   ]
  },
  {
   "cell_type": "code",
   "execution_count": 23,
   "id": "0444a2f9",
   "metadata": {},
   "outputs": [
    {
     "name": "stdout",
     "output_type": "stream",
     "text": [
      "CPU times: user 30.1 ms, sys: 5.61 ms, total: 35.7 ms\n",
      "Wall time: 335 ms\n"
     ]
    }
   ],
   "source": [
    "%%time\n",
    "records_list_filtered = read_bag_filtered.compute()"
   ]
  },
  {
   "cell_type": "code",
   "execution_count": 24,
   "id": "c0300233",
   "metadata": {},
   "outputs": [
    {
     "data": {
      "text/plain": [
       "[{'_id': ObjectId('60f6093e562ff3ba3c06f12d'),\n",
       "  'name': 'barney',\n",
       "  'number': 68,\n",
       "  'idx': 101},\n",
       " {'_id': ObjectId('60f6093e562ff3ba3c06f12e'),\n",
       "  'name': 'wilma',\n",
       "  'number': 63,\n",
       "  'idx': 102},\n",
       " {'_id': ObjectId('60f6093e562ff3ba3c06f12f'),\n",
       "  'name': 'fred',\n",
       "  'number': 87,\n",
       "  'idx': 103},\n",
       " {'_id': ObjectId('60f6093e562ff3ba3c06f130'),\n",
       "  'name': 'barney',\n",
       "  'number': 10,\n",
       "  'idx': 104},\n",
       " {'_id': ObjectId('60f6093e562ff3ba3c06f131'),\n",
       "  'name': 'fred',\n",
       "  'number': 48,\n",
       "  'idx': 105},\n",
       " {'_id': ObjectId('60f6093e562ff3ba3c06f132'),\n",
       "  'name': 'betty',\n",
       "  'number': 96,\n",
       "  'idx': 106},\n",
       " {'_id': ObjectId('60f6093e562ff3ba3c06f133'),\n",
       "  'name': 'betty',\n",
       "  'number': 9,\n",
       "  'idx': 107},\n",
       " {'_id': ObjectId('60f6093e562ff3ba3c06f134'),\n",
       "  'name': 'fred',\n",
       "  'number': 100,\n",
       "  'idx': 108},\n",
       " {'_id': ObjectId('60f6093e562ff3ba3c06f135'),\n",
       "  'name': 'fred',\n",
       "  'number': 21,\n",
       "  'idx': 109}]"
      ]
     },
     "execution_count": 24,
     "metadata": {},
     "output_type": "execute_result"
    }
   ],
   "source": [
    "records_list_filtered"
   ]
  },
  {
   "cell_type": "markdown",
   "id": "c1d133db",
   "metadata": {},
   "source": [
    "### Drop collection if you want your cluster clean"
   ]
  },
  {
   "cell_type": "code",
   "execution_count": 25,
   "id": "524cb6db",
   "metadata": {},
   "outputs": [
    {
     "data": {
      "text/plain": [
       "{'nIndexesWas': 1,\n",
       " 'ns': 'new_database.new_collection',\n",
       " 'ok': 1.0,\n",
       " '$clusterTime': {'clusterTime': Timestamp(1626737053, 2),\n",
       "  'signature': {'hash': b'\\x9b/M\\xccO\\xeb\\xf2\\xf1\\xae\\x9a\\x1aeU\\x84O\\x85\\xe3R\\xedv',\n",
       "   'keyId': 6932492981463154689}},\n",
       " 'operationTime': Timestamp(1626737053, 2)}"
      ]
     },
     "execution_count": 25,
     "metadata": {},
     "output_type": "execute_result"
    }
   ],
   "source": [
    "mongo_client[\"new_database\"].drop_collection(\"new_collection\")"
   ]
  },
  {
   "cell_type": "code",
   "execution_count": null,
   "id": "55c0158a",
   "metadata": {},
   "outputs": [],
   "source": []
  }
 ],
 "metadata": {
  "kernelspec": {
   "display_name": "Python 3 (ipykernel)",
   "language": "python",
   "name": "python3"
  },
  "language_info": {
   "codemirror_mode": {
    "name": "ipython",
    "version": 3
   },
   "file_extension": ".py",
   "mimetype": "text/x-python",
   "name": "python",
   "nbconvert_exporter": "python",
   "pygments_lexer": "ipython3",
   "version": "3.8.10"
  }
 },
 "nbformat": 4,
 "nbformat_minor": 5
}
